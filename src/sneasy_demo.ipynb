{
 "metadata": {
  "language": "Julia",
  "name": "",
  "signature": "sha256:526b3c6a59b1f9e51c7c53291dd76679373dbc247bd512d14787769723f1f144"
 },
 "nbformat": 3,
 "nbformat_minor": 0,
 "worksheets": [
  {
   "cells": [
    {
     "cell_type": "heading",
     "level": 1,
     "metadata": {},
     "source": [
      "SNEASY"
     ]
    },
    {
     "cell_type": "markdown",
     "metadata": {},
     "source": [
      "This runs the SNEASY model and plots some variables."
     ]
    },
    {
     "cell_type": "heading",
     "level": 2,
     "metadata": {},
     "source": [
      "Dependencies"
     ]
    },
    {
     "cell_type": "markdown",
     "metadata": {},
     "source": [
      "Load dependencies"
     ]
    },
    {
     "cell_type": "code",
     "collapsed": false,
     "input": [
      "using IAMF\n",
      "using Winston"
     ],
     "language": "python",
     "metadata": {},
     "outputs": [],
     "prompt_number": 1
    },
    {
     "cell_type": "code",
     "collapsed": false,
     "input": [
      "include(\"doeclim.jl\")\n",
      "include(\"ccm.jl\")\n",
      "include(\"radforc.jl\")"
     ],
     "language": "python",
     "metadata": {},
     "outputs": [],
     "prompt_number": 2
    },
    {
     "cell_type": "heading",
     "level": 2,
     "metadata": {},
     "source": [
      "Read and prep data from files"
     ]
    },
    {
     "cell_type": "code",
     "collapsed": false,
     "input": [
      "f_anomtable = readdlm(\"../data/anomtable.txt\")\n",
      "f_emissions = readdlm(\"../data/emis_data_sep09.txt\")\n",
      "f_nonco2forcing = readdlm(\"../data/non_CO2_forcing.txt\")\n",
      "\n",
      "CO2_emissions = vec(f_emissions[:,2])\n",
      "other_forcing = vec(f_nonco2forcing[:,2])\n",
      "anomtable = zeros(100, 16000)\n",
      "for i=1:16000\n",
      "    anomtable[:,i] = f_anomtable[i,:]\n",
      "end"
     ],
     "language": "python",
     "metadata": {},
     "outputs": [],
     "prompt_number": 3
    },
    {
     "cell_type": "heading",
     "level": 2,
     "metadata": {},
     "source": [
      "Create model"
     ]
    },
    {
     "cell_type": "markdown",
     "metadata": {},
     "source": [
      "Create the model object and set the number of timesteps."
     ]
    },
    {
     "cell_type": "code",
     "collapsed": false,
     "input": [
      "m = Model()\n",
      "\n",
      "setindex(m, :time, 566)"
     ],
     "language": "python",
     "metadata": {},
     "outputs": [],
     "prompt_number": 4
    },
    {
     "cell_type": "markdown",
     "metadata": {},
     "source": [
      "Add components to model"
     ]
    },
    {
     "cell_type": "code",
     "collapsed": false,
     "input": [
      "addcomponent(m, radforccomponent.radforc)\n",
      "addcomponent(m, doeclimcomponent.doeclim)\n",
      "addcomponent(m, ccmcomponent.ccm)    "
     ],
     "language": "python",
     "metadata": {},
     "outputs": [],
     "prompt_number": 5
    },
    {
     "cell_type": "markdown",
     "metadata": {},
     "source": [
      "Set parameters"
     ]
    },
    {
     "cell_type": "code",
     "collapsed": false,
     "input": [
      "setparameter(m, :doeclim, :t2co, 2.0)\n",
      "setparameter(m, :doeclim, :kappa, 1.1)\n",
      "setparameter(m, :doeclim, :deltat, 1.0)\n",
      "    \n",
      "setparameter(m, :ccm, :deltat, 1.0)\n",
      "setparameter(m, :ccm, :Clim_sens, 2.0)\n",
      "setparameter(m, :ccm, :Q10, 1.311)\n",
      "setparameter(m, :ccm, :Beta, 0.502)\n",
      "setparameter(m, :ccm, :Eta, 17.722)\n",
      "setparameter(m, :ccm, :CO2_emissions, CO2_emissions)\n",
      "setparameter(m, :ccm, :anomtable, anomtable)\n",
      "    \n",
      "setparameter(m, :radforc, :other_forcing, other_forcing)\n",
      "setparameter(m, :radforc, :deltat, 1.0)"
     ],
     "language": "python",
     "metadata": {},
     "outputs": [],
     "prompt_number": 6
    },
    {
     "cell_type": "markdown",
     "metadata": {},
     "source": [
      "Connect components"
     ]
    },
    {
     "cell_type": "code",
     "collapsed": false,
     "input": [
      "bindparameter(m, :doeclim, :forcing, :radforc, :rf)\n",
      "bindparameter(m, :ccm, :temp, :doeclim)\n",
      "bindparameter(m, :radforc, :atmco2, :ccm)"
     ],
     "language": "python",
     "metadata": {},
     "outputs": [],
     "prompt_number": 7
    },
    {
     "cell_type": "heading",
     "level": 2,
     "metadata": {},
     "source": [
      "Run model"
     ]
    },
    {
     "cell_type": "code",
     "collapsed": false,
     "input": [
      "run(m)"
     ],
     "language": "python",
     "metadata": {},
     "outputs": [],
     "prompt_number": 8
    },
    {
     "cell_type": "heading",
     "level": 2,
     "metadata": {},
     "source": [
      "Plot results"
     ]
    },
    {
     "cell_type": "code",
     "collapsed": false,
     "input": [
      "plot(collect(1850:1850+566-1), getvariable(m, :doeclim, :temp))\n",
      "title(\"temperature\")\n",
      "xlabel(\"year\")\n",
      "ylabel(\"\u00b0C\")"
     ],
     "language": "python",
     "metadata": {},
     "outputs": [
      {
       "metadata": {},
       "output_type": "pyout",
       "png": "[encoded data removed]",
       "prompt_number": 9,
       "text": [
        "FramedPlot(...)"
       ]
      }
     ],
     "prompt_number": 9
    },
    {
     "cell_type": "code",
     "collapsed": false,
     "input": [
      "plot(collect(1850:1850+566-1), getvariable(m, :radforc, :rf))\n",
      "title(\"radiative forcing\")\n",
      "xlabel(\"year\")\n",
      "ylabel(\"W/m^2\")"
     ],
     "language": "python",
     "metadata": {},
     "outputs": [
      {
       "metadata": {},
       "output_type": "pyout",
       "png": "[encoded data removed]",
       "prompt_number": 10,
       "text": [
        "FramedPlot(...)"
       ]
      }
     ],
     "prompt_number": 10
    },
    {
     "cell_type": "code",
     "collapsed": false,
     "input": [
      "plot(collect(1850:1850+566-1), getvariable(m, :ccm, :atmco2))\n",
      "title(\"CO2 concentrations\")\n",
      "xlabel(\"year\")\n",
      "ylabel(\"ppm\")"
     ],
     "language": "python",
     "metadata": {},
     "outputs": [
      {
       "metadata": {},
       "output_type": "pyout",
       "png": "[encoded data removed]",
       "prompt_number": 11,
       "text": [
        "FramedPlot(...)"
       ]
      }
     ],
     "prompt_number": 11
    }
   ],
   "metadata": {}
  }
 ]
}